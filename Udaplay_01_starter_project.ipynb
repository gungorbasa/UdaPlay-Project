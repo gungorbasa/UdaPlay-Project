{
 "cells": [
  {
   "cell_type": "markdown",
   "id": "6fdd0bcb",
   "metadata": {},
   "source": [
    "# [STARTER] Udaplay Project"
   ]
  },
  {
   "cell_type": "markdown",
   "id": "9325b035",
   "metadata": {},
   "source": [
    "## Part 01 - Offline RAG\n",
    "\n",
    "In this part of the project, you'll build your VectorDB using Chroma.\n",
    "\n",
    "The data is inside folder `project/starter/games`. Each file will become a document in the collection you'll create.\n",
    "Example.:\n",
    "```json\n",
    "{\n",
    "  \"Name\": \"Gran Turismo\",\n",
    "  \"Platform\": \"PlayStation 1\",\n",
    "  \"Genre\": \"Racing\",\n",
    "  \"Publisher\": \"Sony Computer Entertainment\",\n",
    "  \"Description\": \"A realistic racing simulator featuring a wide array of cars and tracks, setting a new standard for the genre.\",\n",
    "  \"YearOfRelease\": 1997\n",
    "}\n",
    "```\n"
   ]
  },
  {
   "cell_type": "markdown",
   "id": "2b42de90",
   "metadata": {},
   "source": [
    "### Setup"
   ]
  },
  {
   "cell_type": "code",
   "execution_count": 1,
   "id": "61283b25",
   "metadata": {},
   "outputs": [],
   "source": [
    "# Only needed for Udacity workspace\n",
    "\n",
    "import importlib.util\n",
    "import sys\n",
    "\n",
    "# Check if 'pysqlite3' is available before importing\n",
    "if importlib.util.find_spec(\"pysqlite3\") is not None:\n",
    "    import pysqlite3\n",
    "    sys.modules['sqlite3'] = sys.modules.pop('pysqlite3')"
   ]
  },
  {
   "cell_type": "code",
   "execution_count": 2,
   "id": "a8d56169",
   "metadata": {},
   "outputs": [],
   "source": [
    "import os\n",
    "import json\n",
    "import chromadb\n",
    "from chromadb.utils import embedding_functions\n",
    "from dotenv import load_dotenv"
   ]
  },
  {
   "cell_type": "code",
   "execution_count": 3,
   "id": "fd10c06e",
   "metadata": {},
   "outputs": [],
   "source": [
    "# TODO: Create a .env file with the following variables\n",
    "# OPENAI_API_KEY=\"YOUR_KEY\"\n",
    "# CHROMA_OPENAI_API_KEY=\"YOUR_KEY\"\n",
    "# TAVILY_API_KEY=\"YOUR_KEY\""
   ]
  },
  {
   "cell_type": "code",
   "execution_count": 4,
   "id": "87e465d4",
   "metadata": {},
   "outputs": [
    {
     "data": {
      "text/plain": [
       "True"
      ]
     },
     "execution_count": 4,
     "metadata": {},
     "output_type": "execute_result"
    }
   ],
   "source": [
    "# TODO: Load environment variables\n",
    "load_dotenv()"
   ]
  },
  {
   "cell_type": "markdown",
   "id": "27de4729",
   "metadata": {},
   "source": [
    "### VectorDB Instance"
   ]
  },
  {
   "cell_type": "code",
   "execution_count": 5,
   "id": "b25c36dd",
   "metadata": {},
   "outputs": [],
   "source": [
    "# TODO: Instantiate your ChromaDB Client\n",
    "# Choose any path you want\n",
    "chroma_client = chromadb.PersistentClient(path=\"./chromadb\")"
   ]
  },
  {
   "cell_type": "markdown",
   "id": "df844b3b",
   "metadata": {},
   "source": [
    "### Collection"
   ]
  },
  {
   "cell_type": "code",
   "execution_count": 6,
   "id": "31c56281",
   "metadata": {},
   "outputs": [],
   "source": [
    "# TODO: Pick one embedding function\n",
    "# If picking something different than openai, \n",
    "# make sure you use the same when loading it\n",
    "embedding_fn = embedding_functions.OpenAIEmbeddingFunction(\n",
    "    api_key=os.getenv(\"OPENAI_API_KEY\"),\n",
    "    api_base=\"https://openai.vocareum.com/v1\"\n",
    ")"
   ]
  },
  {
   "cell_type": "code",
   "execution_count": 7,
   "id": "0ec23893",
   "metadata": {},
   "outputs": [],
   "source": [
    "# TODO: Create a collection\n",
    "# Choose any name you want\n",
    "collection = chroma_client.create_collection(\n",
    "   name=\"udaplay\",\n",
    "   embedding_function=embedding_fn\n",
    ")"
   ]
  },
  {
   "cell_type": "markdown",
   "id": "f0a55081",
   "metadata": {},
   "source": [
    "### Add documents"
   ]
  },
  {
   "cell_type": "code",
   "execution_count": 8,
   "id": "eb83fbb1",
   "metadata": {},
   "outputs": [],
   "source": [
    "# Make sure you have a directory \"project/starter/games\"\n",
    "data_dir = \"games\"\n",
    "\n",
    "for file_name in sorted(os.listdir(data_dir)):\n",
    "    if not file_name.endswith(\".json\"):\n",
    "        continue\n",
    "\n",
    "    file_path = os.path.join(data_dir, file_name)\n",
    "    with open(file_path, \"r\", encoding=\"utf-8\") as f:\n",
    "        game = json.load(f)\n",
    "\n",
    "    # You can change what text you want to index\n",
    "    content = f\"[{game['Platform']}] {game['Name']} ({game['YearOfRelease']}) - {game['Description']}\"\n",
    "\n",
    "    # Use file name (like 001) as ID\n",
    "    doc_id = os.path.splitext(file_name)[0]\n",
    "\n",
    "    collection.add(\n",
    "        ids=[doc_id],\n",
    "        documents=[content],\n",
    "        metadatas=[game]\n",
    "    )"
   ]
  },
  {
   "cell_type": "code",
   "execution_count": 9,
   "id": "1b6e6448",
   "metadata": {},
   "outputs": [],
   "source": [
    "# Search Queries\n",
    "questions = [\n",
    "    \"When was Grand Theft Auto released?\",\n",
    "    \"When did Grand Theft Auto come out?\",\n",
    "    \"Which platform was Grand Theft Auto released on?\",\n",
    "    \"What games are available for Nintendo Switch?\",\n",
    "    \"Which one was the first 3D platformer Mario game?\",\n",
    "    \"Was Mortal Kombat X released for Playstation 5?\"\n",
    "]"
   ]
  },
  {
   "cell_type": "code",
   "execution_count": 10,
   "id": "d76284d3",
   "metadata": {},
   "outputs": [
    {
     "name": "stdout",
     "output_type": "stream",
     "text": [
      "Question: When was Grand Theft Auto released?\n",
      "{\n",
      "    \"Platform\": \"PlayStation 2\",\n",
      "    \"Name\": \"Grand Theft Auto: San Andreas\",\n",
      "    \"YearOfRelease\": 2004,\n",
      "    \"Description\": \"An expansive open-world game set in the fictional state of San Andreas, following the story of Carl 'CJ' Johnson.\"\n",
      "}\n",
      "{\n",
      "    \"Platform\": \"PlayStation 1\",\n",
      "    \"Name\": \"Gran Turismo\",\n",
      "    \"YearOfRelease\": 1997,\n",
      "    \"Description\": \"A realistic racing simulator featuring a wide array of cars and tracks, setting a new standard for the genre.\"\n",
      "}\n",
      "{\n",
      "    \"Platform\": \"PlayStation 3\",\n",
      "    \"Name\": \"Gran Turismo 5\",\n",
      "    \"YearOfRelease\": 2010,\n",
      "    \"Description\": \"A comprehensive racing simulator featuring a vast selection of vehicles and tracks, with realistic driving physics.\"\n",
      "}\n",
      "Question: When did Grand Theft Auto come out?\n",
      "{\n",
      "    \"Platform\": \"PlayStation 2\",\n",
      "    \"Name\": \"Grand Theft Auto: San Andreas\",\n",
      "    \"YearOfRelease\": 2004,\n",
      "    \"Description\": \"An expansive open-world game set in the fictional state of San Andreas, following the story of Carl 'CJ' Johnson.\"\n",
      "}\n",
      "{\n",
      "    \"Platform\": \"PlayStation 1\",\n",
      "    \"Name\": \"Gran Turismo\",\n",
      "    \"YearOfRelease\": 1997,\n",
      "    \"Description\": \"A realistic racing simulator featuring a wide array of cars and tracks, setting a new standard for the genre.\"\n",
      "}\n",
      "{\n",
      "    \"Platform\": \"PlayStation 3\",\n",
      "    \"Name\": \"Gran Turismo 5\",\n",
      "    \"YearOfRelease\": 2010,\n",
      "    \"Description\": \"A comprehensive racing simulator featuring a vast selection of vehicles and tracks, with realistic driving physics.\"\n",
      "}\n",
      "Question: Which platform was Grand Theft Auto released on?\n",
      "{\n",
      "    \"Platform\": \"PlayStation 2\",\n",
      "    \"Name\": \"Grand Theft Auto: San Andreas\",\n",
      "    \"YearOfRelease\": 2004,\n",
      "    \"Description\": \"An expansive open-world game set in the fictional state of San Andreas, following the story of Carl 'CJ' Johnson.\"\n",
      "}\n",
      "{\n",
      "    \"Platform\": \"PlayStation 1\",\n",
      "    \"Name\": \"Gran Turismo\",\n",
      "    \"YearOfRelease\": 1997,\n",
      "    \"Description\": \"A realistic racing simulator featuring a wide array of cars and tracks, setting a new standard for the genre.\"\n",
      "}\n",
      "{\n",
      "    \"Platform\": \"PlayStation 3\",\n",
      "    \"Name\": \"Gran Turismo 5\",\n",
      "    \"YearOfRelease\": 2010,\n",
      "    \"Description\": \"A comprehensive racing simulator featuring a vast selection of vehicles and tracks, with realistic driving physics.\"\n",
      "}\n",
      "Question: What games are available for Nintendo Switch?\n",
      "{\n",
      "    \"Platform\": \"Nintendo Switch\",\n",
      "    \"Name\": \"Mario Kart 8 Deluxe\",\n",
      "    \"YearOfRelease\": 2017,\n",
      "    \"Description\": \"An enhanced version of Mario Kart 8, featuring new characters, tracks, and improved gameplay mechanics.\"\n",
      "}\n",
      "{\n",
      "    \"Platform\": \"Nintendo 64\",\n",
      "    \"Name\": \"Super Mario 64\",\n",
      "    \"YearOfRelease\": 1996,\n",
      "    \"Description\": \"A groundbreaking 3D platformer that set new standards for the genre, featuring Mario's quest to rescue Princess Peach.\"\n",
      "}\n",
      "{\n",
      "    \"Platform\": \"Wii\",\n",
      "    \"Name\": \"Wii Sports\",\n",
      "    \"YearOfRelease\": 2006,\n",
      "    \"Description\": \"A collection of sports games that utilize the Wii's motion controls, bundled with the console to showcase its capabilities.\"\n",
      "}\n",
      "Question: Which one was the first 3D platformer Mario game?\n",
      "{\n",
      "    \"Platform\": \"Nintendo 64\",\n",
      "    \"Name\": \"Super Mario 64\",\n",
      "    \"YearOfRelease\": 1996,\n",
      "    \"Description\": \"A groundbreaking 3D platformer that set new standards for the genre, featuring Mario's quest to rescue Princess Peach.\"\n",
      "}\n",
      "{\n",
      "    \"Platform\": \"Super Nintendo Entertainment System (SNES)\",\n",
      "    \"Name\": \"Super Mario World\",\n",
      "    \"YearOfRelease\": 1990,\n",
      "    \"Description\": \"A classic platformer where Mario embarks on a quest to save Princess Toadstool and Dinosaur Land from Bowser.\"\n",
      "}\n",
      "{\n",
      "    \"Platform\": \"Nintendo Switch\",\n",
      "    \"Name\": \"Mario Kart 8 Deluxe\",\n",
      "    \"YearOfRelease\": 2017,\n",
      "    \"Description\": \"An enhanced version of Mario Kart 8, featuring new characters, tracks, and improved gameplay mechanics.\"\n",
      "}\n",
      "Question: Was Mortal Kombat X released for Playstation 5?\n",
      "{\n",
      "    \"Platform\": \"PlayStation 5\",\n",
      "    \"Name\": \"Marvel's Spider-Man 2\",\n",
      "    \"YearOfRelease\": 2023,\n",
      "    \"Description\": \"The sequel to the acclaimed Spider-Man game, featuring both Peter Parker and Miles Morales as playable characters.\"\n",
      "}\n",
      "{\n",
      "    \"Platform\": \"Xbox Series X|S\",\n",
      "    \"Name\": \"Halo Infinite\",\n",
      "    \"YearOfRelease\": 2021,\n",
      "    \"Description\": \"The latest installment in the Halo franchise, featuring Master Chief's return in a new open-world setting.\"\n",
      "}\n",
      "{\n",
      "    \"Platform\": \"PlayStation 4\",\n",
      "    \"Name\": \"Marvel's Spider-Man\",\n",
      "    \"YearOfRelease\": 2018,\n",
      "    \"Description\": \"An open-world superhero game that lets players swing through New York City as Spider-Man, battling iconic villains.\"\n",
      "}\n"
     ]
    }
   ],
   "source": [
    "# Query DB for questions\n",
    "for question in questions:\n",
    "        print(f\"Question: {question}\")\n",
    "        results = collection.query(\n",
    "                query_texts=[question],\n",
    "                n_results=3\n",
    "        )\n",
    "        for doc, meta in zip(results[\"documents\"][0], results[\"metadatas\"][0]):\n",
    "                data = {\n",
    "                        \"Platform\": meta.get(\"Platform\", \"Unknown\"),\n",
    "                        \"Name\": meta.get(\"Name\", \"Unknown\"),\n",
    "                        \"YearOfRelease\": meta.get(\"YearOfRelease\", \"Unknown\"),\n",
    "                        \"Description\": meta.get(\"Description\", \"N/A\"),\n",
    "                }\n",
    "\n",
    "                print(json.dumps(data, indent=4))"
   ]
  }
 ],
 "metadata": {
  "kernelspec": {
   "display_name": "venv",
   "language": "python",
   "name": "python3"
  },
  "language_info": {
   "codemirror_mode": {
    "name": "ipython",
    "version": 3
   },
   "file_extension": ".py",
   "mimetype": "text/x-python",
   "name": "python",
   "nbconvert_exporter": "python",
   "pygments_lexer": "ipython3",
   "version": "3.12.7"
  }
 },
 "nbformat": 4,
 "nbformat_minor": 5
}
